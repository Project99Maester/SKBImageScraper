{
 "cells": [
  {
   "cell_type": "code",
   "execution_count": 82,
   "metadata": {},
   "outputs": [],
   "source": [
    "from bs4 import BeautifulSoup\n",
    "import requests"
   ]
  },
  {
   "cell_type": "code",
   "execution_count": 83,
   "metadata": {},
   "outputs": [],
   "source": [
    "searchString='sea urchin'\n",
    "url='https://www.google.com/search?q={}&source=lnms&tbm=isch&sa=X'.format(searchString)"
   ]
  },
  {
   "cell_type": "code",
   "execution_count": 84,
   "metadata": {},
   "outputs": [],
   "source": [
    "header = {\n",
    "        'User-Agent': \"Mozilla/5.0 (Windows NT 6.1; WOW64) AppleWebKit/537.36 (KHTML, like Gecko) Chrome/43.0.2357.134 Safari/537.36\"}\n",
    "data=requests.get(url,headers=header)\n",
    "html_data=BeautifulSoup(data.content,'html.parser')"
   ]
  },
  {
   "cell_type": "code",
   "execution_count": 85,
   "metadata": {
    "scrolled": true
   },
   "outputs": [],
   "source": [
    "img_url=[]\n",
    "for img in html_data.find_all('img',{'class':'rg_i Q4LuWd'}):\n",
    "    if 'data-src' in img.attrs:\n",
    "        img_url.append(img['data-src'])"
   ]
  },
  {
   "cell_type": "code",
   "execution_count": 86,
   "metadata": {},
   "outputs": [],
   "source": [
    "import os\n",
    "# os.getcwd()\n",
    "file_name=os.path.join(os.getcwd(),'download\\\\{}\\\\'.format(searchString))"
   ]
  },
  {
   "cell_type": "code",
   "execution_count": 87,
   "metadata": {},
   "outputs": [],
   "source": [
    "counter=1\n",
    "try:\n",
    "    os.mkdir(file_name)\n",
    "except Exception:\n",
    "    pass\n",
    "for imUrl in img_url:\n",
    "    if counter>20:\n",
    "        break\n",
    "    img=requests.get(imUrl,headers=header)\n",
    "    with open(file_name+\"{}.jpg\".format(counter), \"wb\") as imgs:\n",
    "        imgs.write(img.content)\n",
    "    counter+=1"
   ]
  }
 ],
 "metadata": {
  "kernelspec": {
   "display_name": "Python 3",
   "language": "python",
   "name": "python3"
  },
  "language_info": {
   "codemirror_mode": {
    "name": "ipython",
    "version": 3
   },
   "file_extension": ".py",
   "mimetype": "text/x-python",
   "name": "python",
   "nbconvert_exporter": "python",
   "pygments_lexer": "ipython3",
   "version": "3.8.5"
  }
 },
 "nbformat": 4,
 "nbformat_minor": 4
}
